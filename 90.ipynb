{
 "cells": [
  {
   "cell_type": "code",
   "execution_count": null,
   "id": "f475d7cb-fe96-4586-9410-c5867b4dc2cc",
   "metadata": {},
   "outputs": [],
   "source": [
    "class Solution:\n",
    "    def numDecodings(self, s: str) -> int:\n",
    "        if s[0] == '0':\n",
    "            return 0\n",
    "        \n",
    "        n = len(s)\n",
    "        dp = [0] * (n + 1)\n",
    "        dp[0], dp[1] = 1, 1\n",
    "\n",
    "        for i in range(2, n + 1):\n",
    "            one = int(s[i - 1])\n",
    "            two = int(s[i - 2:i])\n",
    "\n",
    "            if 1 <= one <= 9:\n",
    "                dp[i] += dp[i - 1]\n",
    "            if 10 <= two <= 26:\n",
    "                dp[i] += dp[i - 2]\n",
    "\n",
    "        return dp[n]"
   ]
  }
 ],
 "metadata": {
  "kernelspec": {
   "display_name": "Python 3 (ipykernel)",
   "language": "python",
   "name": "python3"
  },
  "language_info": {
   "codemirror_mode": {
    "name": "ipython",
    "version": 3
   },
   "file_extension": ".py",
   "mimetype": "text/x-python",
   "name": "python",
   "nbconvert_exporter": "python",
   "pygments_lexer": "ipython3",
   "version": "3.12.4"
  }
 },
 "nbformat": 4,
 "nbformat_minor": 5
}
