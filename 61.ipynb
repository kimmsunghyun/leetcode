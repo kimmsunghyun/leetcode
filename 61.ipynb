{
 "cells": [
  {
   "cell_type": "code",
   "execution_count": null,
   "id": "f475d7cb-fe96-4586-9410-c5867b4dc2cc",
   "metadata": {},
   "outputs": [],
   "source": [
    "from collections import deque\n",
    "\n",
    "class Solution:\n",
    "    def simplifyPath(self, path: str) -> str:\n",
    "        \"\"\"\n",
    "        \"\"\"\n",
    "        # first remove double slashes so that we have single delimiter to split directories\n",
    "        path = path.replace('//', '/')\n",
    "        path_stack = deque()\n",
    "        for sub_path in path.split('/'):\n",
    "            if sub_path:\n",
    "                path_stack.append(sub_path)\n",
    "        new_path_stack = deque()\n",
    "        up_dir = 0\n",
    "        while path_stack:\n",
    "            sub_path = path_stack.pop()\n",
    "            if sub_path == '..':\n",
    "                up_dir += 1\n",
    "                continue\n",
    "            if sub_path != '.' and sub_path != '..' and up_dir == 0:\n",
    "                new_path_stack.appendleft(sub_path)\n",
    "            elif up_dir != 0 and sub_path != '.':\n",
    "                up_dir -= 1\n",
    "        new_path = '/'.join(new_path_stack)\n",
    "        return f\"/{new_path}\"\n",
    "\n",
    "            \n"
   ]
  }
 ],
 "metadata": {
  "kernelspec": {
   "display_name": "Python 3 (ipykernel)",
   "language": "python",
   "name": "python3"
  },
  "language_info": {
   "codemirror_mode": {
    "name": "ipython",
    "version": 3
   },
   "file_extension": ".py",
   "mimetype": "text/x-python",
   "name": "python",
   "nbconvert_exporter": "python",
   "pygments_lexer": "ipython3",
   "version": "3.12.4"
  }
 },
 "nbformat": 4,
 "nbformat_minor": 5
}
