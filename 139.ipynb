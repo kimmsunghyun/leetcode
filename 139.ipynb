{
 "cells": [
  {
   "cell_type": "code",
   "execution_count": null,
   "id": "f475d7cb-fe96-4586-9410-c5867b4dc2cc",
   "metadata": {},
   "outputs": [],
   "source": [
    "class Solution:\n",
    "  def detectCycle(self, head: ListNode) -> ListNode:\n",
    "    # Initialize two pointers, slow and fast, to the head of the linked list.\n",
    "    slow = head\n",
    "    fast = head\n",
    "\n",
    "    # Move the slow pointer one step and the fast pointer two steps at a time through the linked list,\n",
    "    # until they either meet or the fast pointer reaches the end of the list.\n",
    "    while fast and fast.next:\n",
    "      slow = slow.next\n",
    "      fast = fast.next.next\n",
    "      if slow == fast:\n",
    "        # If the pointers meet, there is a cycle in the linked list.\n",
    "        # Reset the slow pointer to the head of the linked list, and move both pointers one step at a time\n",
    "        # until they meet again. The node where they meet is the starting point of the cycle.\n",
    "        slow = head\n",
    "        while slow != fast:\n",
    "          slow = slow.next\n",
    "          fast = fast.next\n",
    "        return slow\n",
    "\n",
    "    # If the fast pointer reaches the end of the list without meeting the slow pointer,\n",
    "    # there is no cycle in the linked list. Return None.\n",
    "    return None"
   ]
  }
 ],
 "metadata": {
  "kernelspec": {
   "display_name": "Python 3 (ipykernel)",
   "language": "python",
   "name": "python3"
  },
  "language_info": {
   "codemirror_mode": {
    "name": "ipython",
    "version": 3
   },
   "file_extension": ".py",
   "mimetype": "text/x-python",
   "name": "python",
   "nbconvert_exporter": "python",
   "pygments_lexer": "ipython3",
   "version": "3.12.4"
  }
 },
 "nbformat": 4,
 "nbformat_minor": 5
}
