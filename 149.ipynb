{
 "cells": [
  {
   "cell_type": "code",
   "execution_count": null,
   "id": "f475d7cb-fe96-4586-9410-c5867b4dc2cc",
   "metadata": {},
   "outputs": [],
   "source": [
    "class Solution:\n",
    "    def evalRPN(self, tokens: List[str]) -> int:\n",
    "        def sp():\n",
    "            return stack.pop()\n",
    "        # just postfix\n",
    "        stack = []\n",
    "\n",
    "        for s in tokens:\n",
    "            if s == \"+\":\n",
    "                stack.append(sp() + sp())\n",
    "            elif s == \"-\":\n",
    "                a = sp()\n",
    "                b = sp()\n",
    "                stack.append(b - a)\n",
    "            elif s == \"*\":\n",
    "                stack.append(sp() * sp())\n",
    "            elif s == \"/\":\n",
    "                a = sp()\n",
    "                b = sp()\n",
    "                stack.append(int(b / a))\n",
    "            else:\n",
    "                stack.append(int(s))\n",
    "            \n",
    "        return stack[-1]"
   ]
  }
 ],
 "metadata": {
  "kernelspec": {
   "display_name": "Python 3 (ipykernel)",
   "language": "python",
   "name": "python3"
  },
  "language_info": {
   "codemirror_mode": {
    "name": "ipython",
    "version": 3
   },
   "file_extension": ".py",
   "mimetype": "text/x-python",
   "name": "python",
   "nbconvert_exporter": "python",
   "pygments_lexer": "ipython3",
   "version": "3.12.4"
  }
 },
 "nbformat": 4,
 "nbformat_minor": 5
}
