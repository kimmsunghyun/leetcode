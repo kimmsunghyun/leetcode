{
 "cells": [
  {
   "cell_type": "code",
   "execution_count": null,
   "id": "f475d7cb-fe96-4586-9410-c5867b4dc2cc",
   "metadata": {},
   "outputs": [],
   "source": [
    "# Definition for singly-linked list.\n",
    "# class ListNode:\n",
    "#     def __init__(self, val=0, next=None):\n",
    "#         self.val = val\n",
    "#         self.next = next\n",
    "class Solution:\n",
    "    def sortList(self, head: Optional[ListNode]) -> Optional[ListNode]:\n",
    "        # Step 0\n",
    "        if not head:\n",
    "            return head\n",
    "\n",
    "        node = head\n",
    "        sorted_list = []\n",
    "\n",
    "        # Step 1: \n",
    "        while node:\n",
    "            sorted_list.append(node.val)\n",
    "            node = node.next\n",
    "\n",
    "        # Step 2:\n",
    "        sorted_list.sort()\n",
    "\n",
    "        # Step 3: \n",
    "        node = head\n",
    "        for val in sorted_list:\n",
    "            node.val = val\n",
    "            node = node.next\n",
    "\n",
    "        return head"
   ]
  }
 ],
 "metadata": {
  "kernelspec": {
   "display_name": "Python 3 (ipykernel)",
   "language": "python",
   "name": "python3"
  },
  "language_info": {
   "codemirror_mode": {
    "name": "ipython",
    "version": 3
   },
   "file_extension": ".py",
   "mimetype": "text/x-python",
   "name": "python",
   "nbconvert_exporter": "python",
   "pygments_lexer": "ipython3",
   "version": "3.12.4"
  }
 },
 "nbformat": 4,
 "nbformat_minor": 5
}
