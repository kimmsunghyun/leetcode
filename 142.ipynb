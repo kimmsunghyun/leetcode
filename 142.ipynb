{
 "cells": [
  {
   "cell_type": "code",
   "execution_count": null,
   "id": "f475d7cb-fe96-4586-9410-c5867b4dc2cc",
   "metadata": {},
   "outputs": [],
   "source": [
    "class Solution:\n",
    "    def wordBreak(self, s: str, wordDict: List[str]) -> List[str]:\n",
    "        word_set = set(wordDict)\n",
    "        memo = {}\n",
    "\n",
    "        def backtrack(start):\n",
    "            if start in memo:\n",
    "                return memo[start]\n",
    "            if start == len(s):\n",
    "                return [\"\"]\n",
    "\n",
    "            sentences = []\n",
    "            for end in range(start + 1, len(s) + 1):\n",
    "                word = s[start:end]\n",
    "                if word in word_set:\n",
    "                    for subsentence in backtrack(end):\n",
    "                        if subsentence:\n",
    "                            sentences.append(word + \" \" + subsentence)\n",
    "                        else:\n",
    "                            sentences.append(word)\n",
    "\n",
    "            memo[start] = sentences\n",
    "            return sentences\n",
    "\n",
    "        return backtrack(0)"
   ]
  }
 ],
 "metadata": {
  "kernelspec": {
   "display_name": "Python 3 (ipykernel)",
   "language": "python",
   "name": "python3"
  },
  "language_info": {
   "codemirror_mode": {
    "name": "ipython",
    "version": 3
   },
   "file_extension": ".py",
   "mimetype": "text/x-python",
   "name": "python",
   "nbconvert_exporter": "python",
   "pygments_lexer": "ipython3",
   "version": "3.12.4"
  }
 },
 "nbformat": 4,
 "nbformat_minor": 5
}
