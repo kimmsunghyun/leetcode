{
 "cells": [
  {
   "cell_type": "code",
   "execution_count": null,
   "id": "f475d7cb-fe96-4586-9410-c5867b4dc2cc",
   "metadata": {},
   "outputs": [],
   "source": [
    "# Definition for a binary tree node.\n",
    "# class TreeNode:\n",
    "#     def __init__(self, val=0, left=None, right=None):\n",
    "#         self.val = val\n",
    "#         self.left = left\n",
    "#         self.right = right\n",
    "class Solution:\n",
    "    def solve(self,root,first,middle,last,prev):\n",
    "        if root:\n",
    "            self.solve(root.left,first,middle,last,prev)\n",
    "            if prev[0] and root.val<prev[0].val:\n",
    "                #  for the adjacent swap\n",
    "                if not first[0]:\n",
    "                    first[0] = prev[0]\n",
    "                    middle[0] = root\n",
    "                #  For the non adjacent swap\n",
    "                else:\n",
    "                    last[0] = root\n",
    "            prev[0] = root\n",
    "            self.solve(root.right,first,middle,last,prev)\n",
    "    def recoverTree(self, root: Optional[TreeNode]) -> None:\n",
    "        \"\"\"\n",
    "        Do not return anything, modify root in-place instead.\n",
    "        \"\"\"\n",
    "        first = [None]\n",
    "        middle = [None]\n",
    "        last = [None]\n",
    "        prev = [None]\n",
    "        self.solve(root,first,middle,last,prev)\n",
    "        #  if the non adjacent nodes are there\n",
    "        if first[0] and last[0]:\n",
    "            first[0].val,last[0].val = last[0].val,first[0].val\n",
    "        elif first[0] and middle[0]:\n",
    "            first[0].val,middle[0].val = middle[0].val,first[0].val\n",
    "        "
   ]
  }
 ],
 "metadata": {
  "kernelspec": {
   "display_name": "Python 3 (ipykernel)",
   "language": "python",
   "name": "python3"
  },
  "language_info": {
   "codemirror_mode": {
    "name": "ipython",
    "version": 3
   },
   "file_extension": ".py",
   "mimetype": "text/x-python",
   "name": "python",
   "nbconvert_exporter": "python",
   "pygments_lexer": "ipython3",
   "version": "3.12.4"
  }
 },
 "nbformat": 4,
 "nbformat_minor": 5
}
