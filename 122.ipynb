{
 "cells": [
  {
   "cell_type": "code",
   "execution_count": null,
   "id": "f475d7cb-fe96-4586-9410-c5867b4dc2cc",
   "metadata": {},
   "outputs": [],
   "source": [
    "# Definition for a binary tree node.\n",
    "# class TreeNode:\n",
    "#     def __init__(self, val=0, left=None, right=None):\n",
    "#         self.val = val\n",
    "#         self.left = left\n",
    "#         self.right = right\n",
    "class Solution:\n",
    "    def maxPathSum(self, root: Optional[TreeNode]) -> int:\n",
    "\n",
    "        res = root.val\n",
    "\n",
    "        def dfs(node):\n",
    "            nonlocal res\n",
    "            if not node: return 0\n",
    "\n",
    "            leftMax = dfs(node.left)\n",
    "            rightMax = dfs(node.right)\n",
    "            leftMax = max(leftMax, 0)\n",
    "            rightMax = max(rightMax, 0)\n",
    "\n",
    "            res = max(res, node.val + leftMax + rightMax)\n",
    "            \n",
    "            return node.val + max(leftMax , rightMax)\n",
    "\n",
    "        dfs(root)\n",
    "        return res"
   ]
  }
 ],
 "metadata": {
  "kernelspec": {
   "display_name": "Python 3 (ipykernel)",
   "language": "python",
   "name": "python3"
  },
  "language_info": {
   "codemirror_mode": {
    "name": "ipython",
    "version": 3
   },
   "file_extension": ".py",
   "mimetype": "text/x-python",
   "name": "python",
   "nbconvert_exporter": "python",
   "pygments_lexer": "ipython3",
   "version": "3.12.4"
  }
 },
 "nbformat": 4,
 "nbformat_minor": 5
}
