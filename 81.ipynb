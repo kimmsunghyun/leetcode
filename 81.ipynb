{
 "cells": [
  {
   "cell_type": "code",
   "execution_count": null,
   "id": "f475d7cb-fe96-4586-9410-c5867b4dc2cc",
   "metadata": {},
   "outputs": [],
   "source": [
    "class Solution:\n",
    "    def largestRectangleArea(self, heights: List[int]) -> int:\n",
    "        max_area = 0\n",
    "        stack = []\n",
    "        for i , h in enumerate(heights):\n",
    "            idx = i\n",
    "            if not stack:\n",
    "                stack.append([i , h])\n",
    "                continue\n",
    "            while stack and stack[-1][1] > h:\n",
    "                idx , he = stack.pop()\n",
    "                max_area = max(max_area , (i - idx ) * he)\n",
    "            stack.append([idx , h])\n",
    "\n",
    "        while stack:\n",
    "            idx , he = stack.pop()\n",
    "            max_area = max(max_area , (i - idx + 1) * he) \n",
    "        return max_area"
   ]
  }
 ],
 "metadata": {
  "kernelspec": {
   "display_name": "Python 3 (ipykernel)",
   "language": "python",
   "name": "python3"
  },
  "language_info": {
   "codemirror_mode": {
    "name": "ipython",
    "version": 3
   },
   "file_extension": ".py",
   "mimetype": "text/x-python",
   "name": "python",
   "nbconvert_exporter": "python",
   "pygments_lexer": "ipython3",
   "version": "3.12.4"
  }
 },
 "nbformat": 4,
 "nbformat_minor": 5
}
