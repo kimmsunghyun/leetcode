{
 "cells": [
  {
   "cell_type": "code",
   "execution_count": null,
   "id": "f475d7cb-fe96-4586-9410-c5867b4dc2cc",
   "metadata": {},
   "outputs": [],
   "source": [
    "class Solution:\n",
    "    def copyRandomList(self, head: 'Optional[Node]') -> 'Optional[Node]':\n",
    "        if not head:\n",
    "            return None\n",
    "        old_to_new = {}\n",
    "        \n",
    "        curr = head\n",
    "        while curr:\n",
    "            old_to_new[curr] = Node(curr.val)\n",
    "            curr = curr.next\n",
    "        \n",
    "        curr = head\n",
    "        while curr:\n",
    "            old_to_new[curr].next = old_to_new.get(curr.next)\n",
    "            old_to_new[curr].random = old_to_new.get(curr.random)\n",
    "            curr = curr.next\n",
    "            \n",
    "        return old_to_new[head]"
   ]
  }
 ],
 "metadata": {
  "kernelspec": {
   "display_name": "Python 3 (ipykernel)",
   "language": "python",
   "name": "python3"
  },
  "language_info": {
   "codemirror_mode": {
    "name": "ipython",
    "version": 3
   },
   "file_extension": ".py",
   "mimetype": "text/x-python",
   "name": "python",
   "nbconvert_exporter": "python",
   "pygments_lexer": "ipython3",
   "version": "3.12.4"
  }
 },
 "nbformat": 4,
 "nbformat_minor": 5
}
