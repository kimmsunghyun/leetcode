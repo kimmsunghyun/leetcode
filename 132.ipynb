{
 "cells": [
  {
   "cell_type": "code",
   "execution_count": null,
   "id": "f475d7cb-fe96-4586-9410-c5867b4dc2cc",
   "metadata": {},
   "outputs": [],
   "source": [
    "class Solution:\n",
    "    def candy(self, ratings: List[int]) -> int:\n",
    "        n = len(ratings)\n",
    "        candies = [1] * n \n",
    "\n",
    "        for i in range(1, n):\n",
    "            if ratings[i] > ratings[i-1]:\n",
    "                candies[i] = candies[i-1] + 1\n",
    "\n",
    "        for i in range(n-2, -1, -1):\n",
    "            if ratings[i] > ratings[i+1]:\n",
    "                candies[i] = max(candies[i], candies[i+1] + 1)\n",
    "        \n",
    "        return sum(candies)"
   ]
  }
 ],
 "metadata": {
  "kernelspec": {
   "display_name": "Python 3 (ipykernel)",
   "language": "python",
   "name": "python3"
  },
  "language_info": {
   "codemirror_mode": {
    "name": "ipython",
    "version": 3
   },
   "file_extension": ".py",
   "mimetype": "text/x-python",
   "name": "python",
   "nbconvert_exporter": "python",
   "pygments_lexer": "ipython3",
   "version": "3.12.4"
  }
 },
 "nbformat": 4,
 "nbformat_minor": 5
}
