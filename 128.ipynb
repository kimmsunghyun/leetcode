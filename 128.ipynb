{
 "cells": [
  {
   "cell_type": "code",
   "execution_count": null,
   "id": "f475d7cb-fe96-4586-9410-c5867b4dc2cc",
   "metadata": {},
   "outputs": [],
   "source": [
    "from collections import deque\n",
    "\n",
    "class Solution:\n",
    "    def solve(self, board: List[List[str]]) -> None:\n",
    "        \"\"\"\n",
    "        Do not return anything, modify board in-place instead.\n",
    "        \"\"\"\n",
    "        \n",
    "        o = \"O\"\n",
    "        \n",
    "        n = len(board) \n",
    "        m = len(board[0])\n",
    "\n",
    "        Q = deque()\n",
    "        \n",
    "        for i in range(n):\n",
    "            if board[i][0] == o:\n",
    "                Q.append((i,0))\n",
    "            if board[i][m-1] == o:\n",
    "                Q.append((i, m-1))\n",
    "                \n",
    "        for j in range(m):\n",
    "            if board[0][j] == o:\n",
    "                Q.append((0,j))\n",
    "            if board[n-1][j] == o:\n",
    "                Q.append((n-1, j))\n",
    "                \n",
    "        def inBounds(i,j):\n",
    "            return (0 <= i < n) and (0 <= j < m)\n",
    "                \n",
    "        while Q:\n",
    "            i,j = Q.popleft()\n",
    "            board[i][j] = \"#\"\n",
    "            \n",
    "            for ii, jj in [(i+1, j), (i-1, j), (i, j+1), (i, j-1)]:\n",
    "                if not inBounds(ii, jj):\n",
    "                    continue\n",
    "                if board[ii][jj] != o:\n",
    "                    continue\n",
    "                Q.append((ii,jj))\n",
    "                board[ii][jj] = '#'\n",
    "            \n",
    "        for i in range(n):\n",
    "            for j in range(m):\n",
    "                if board[i][j] == o:\n",
    "                    board[i][j] = 'X'\n",
    "                elif board[i][j] == '#':\n",
    "                    board[i][j] = o"
   ]
  }
 ],
 "metadata": {
  "kernelspec": {
   "display_name": "Python 3 (ipykernel)",
   "language": "python",
   "name": "python3"
  },
  "language_info": {
   "codemirror_mode": {
    "name": "ipython",
    "version": 3
   },
   "file_extension": ".py",
   "mimetype": "text/x-python",
   "name": "python",
   "nbconvert_exporter": "python",
   "pygments_lexer": "ipython3",
   "version": "3.12.4"
  }
 },
 "nbformat": 4,
 "nbformat_minor": 5
}
