{
 "cells": [
  {
   "cell_type": "code",
   "execution_count": null,
   "id": "f475d7cb-fe96-4586-9410-c5867b4dc2cc",
   "metadata": {},
   "outputs": [],
   "source": [
    "# Definition for singly-linked list.\n",
    "# class ListNode:\n",
    "#     def __init__(self, val=0, next=None):\n",
    "#         self.val = val\n",
    "#         self.next = next\n",
    "# Definition for a binary tree node.\n",
    "# class TreeNode:\n",
    "#     def __init__(self, val=0, left=None, right=None):\n",
    "#         self.val = val\n",
    "#         self.left = left\n",
    "#         self.right = right\n",
    "class Solution:\n",
    "    def sortedListToBST(self, head: Optional[ListNode]) -> Optional[TreeNode]:\n",
    "        def middle(curr = None):\n",
    "            if curr:\n",
    "                prev = slow = fast = curr\n",
    "                while fast and fast.next:\n",
    "                    prev = slow\n",
    "                    slow = slow.next\n",
    "                    fast = fast.next.next\n",
    "                return prev\n",
    "        def helper(curr=None):\n",
    "            if curr:\n",
    "                pre_mid = middle(curr)\n",
    "                if not pre_mid.next:\n",
    "                    return TreeNode(pre_mid.val)\n",
    "                parent = pre_mid.next\n",
    "                pre_mid.next = None\n",
    "                root = TreeNode(parent.val)\n",
    "                root.right = helper(parent.next) \n",
    "                root.left = helper(curr)\n",
    "                return root\n",
    "        return helper(head)"
   ]
  }
 ],
 "metadata": {
  "kernelspec": {
   "display_name": "Python 3 (ipykernel)",
   "language": "python",
   "name": "python3"
  },
  "language_info": {
   "codemirror_mode": {
    "name": "ipython",
    "version": 3
   },
   "file_extension": ".py",
   "mimetype": "text/x-python",
   "name": "python",
   "nbconvert_exporter": "python",
   "pygments_lexer": "ipython3",
   "version": "3.12.4"
  }
 },
 "nbformat": 4,
 "nbformat_minor": 5
}
